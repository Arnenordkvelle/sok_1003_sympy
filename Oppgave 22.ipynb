{
 "cells": [
  {
   "cell_type": "code",
   "execution_count": 13,
   "id": "12b5851f-2173-4247-8bcc-9bb9bdce54f8",
   "metadata": {},
   "outputs": [],
   "source": [
    "import sympy as sp\n",
    "from sympy.solvers import solve\n",
    "x, y=sp.symbols('x y')\n",
    "ln = sp.ln\n",
    "e = sp.exp"
   ]
  },
  {
   "cell_type": "code",
   "execution_count": 8,
   "id": "7a0f784d-0eb8-4e51-a760-31a29b03d370",
   "metadata": {},
   "outputs": [
    {
     "data": {
      "text/latex": [
       "$\\displaystyle \\frac{1}{x}$"
      ],
      "text/plain": [
       "1/x"
      ]
     },
     "execution_count": 8,
     "metadata": {},
     "output_type": "execute_result"
    }
   ],
   "source": [
    "#Oppgave 22.1a\n",
    "sp.diff(ln(5*x))"
   ]
  },
  {
   "cell_type": "code",
   "execution_count": 14,
   "id": "30ad3b6c-fb67-494a-a093-7600df7dbb73",
   "metadata": {},
   "outputs": [
    {
     "data": {
      "text/latex": [
       "$\\displaystyle - 2 e^{- 2 x}$"
      ],
      "text/plain": [
       "-2*exp(-2*x)"
      ]
     },
     "execution_count": 14,
     "metadata": {},
     "output_type": "execute_result"
    }
   ],
   "source": [
    "#Oppgave 22.1b\n",
    "sp.diff(e(-2*x))"
   ]
  },
  {
   "cell_type": "code",
   "execution_count": 36,
   "id": "257dd2b7-b417-4c19-b77f-517bafd010dd",
   "metadata": {},
   "outputs": [
    {
     "data": {
      "text/latex": [
       "$\\displaystyle \\frac{1}{x}$"
      ],
      "text/plain": [
       "1/x"
      ]
     },
     "execution_count": 36,
     "metadata": {},
     "output_type": "execute_result"
    }
   ],
   "source": [
    "#Oppgave 22.1c\n",
    "sp.diff(ln(12*x)-3)"
   ]
  },
  {
   "cell_type": "code",
   "execution_count": 16,
   "id": "d00cf69d-5d7a-47e8-8b6e-407b58bfaa61",
   "metadata": {},
   "outputs": [
    {
     "data": {
      "text/latex": [
       "$\\displaystyle 2^{x} \\log{\\left(2 \\right)}$"
      ],
      "text/plain": [
       "2**x*log(2)"
      ]
     },
     "execution_count": 16,
     "metadata": {},
     "output_type": "execute_result"
    }
   ],
   "source": [
    "#Oppgave 22.1d\n",
    "sp.diff(2**x)"
   ]
  },
  {
   "cell_type": "code",
   "execution_count": 17,
   "id": "732bac37-4e29-4c0d-b980-98a65f1dbf6a",
   "metadata": {},
   "outputs": [
    {
     "data": {
      "text/latex": [
       "$\\displaystyle 3 e^{3 x + 5}$"
      ],
      "text/plain": [
       "3*exp(3*x + 5)"
      ]
     },
     "execution_count": 17,
     "metadata": {},
     "output_type": "execute_result"
    }
   ],
   "source": [
    "#Oppgave 22.1e\n",
    "sp.diff(e(3*x+5))"
   ]
  },
  {
   "cell_type": "code",
   "execution_count": 18,
   "id": "2d47a46e-d124-4484-845e-2983a667d864",
   "metadata": {},
   "outputs": [
    {
     "data": {
      "text/latex": [
       "$\\displaystyle \\frac{5 x^{4}}{x^{5} + 1}$"
      ],
      "text/plain": [
       "5*x**4/(x**5 + 1)"
      ]
     },
     "execution_count": 18,
     "metadata": {},
     "output_type": "execute_result"
    }
   ],
   "source": [
    "#Oppgave 22.1f\n",
    "sp.diff(ln((x**5+1)))"
   ]
  },
  {
   "cell_type": "code",
   "execution_count": 19,
   "id": "fd8b8c6f-6112-454c-a580-813ed25ccd4e",
   "metadata": {},
   "outputs": [
    {
     "data": {
      "text/latex": [
       "$\\displaystyle \\left(8 x + 8\\right) e^{4 x^{2} + 8 x}$"
      ],
      "text/plain": [
       "(8*x + 8)*exp(4*x**2 + 8*x)"
      ]
     },
     "execution_count": 19,
     "metadata": {},
     "output_type": "execute_result"
    }
   ],
   "source": [
    "#Oppgave 22.1g\n",
    "sp.diff(e(4*x**2+8*x))"
   ]
  },
  {
   "cell_type": "code",
   "execution_count": 20,
   "id": "c41b4d04-7ad5-4f69-87ec-18c58cbc4f7f",
   "metadata": {},
   "outputs": [
    {
     "data": {
      "text/latex": [
       "$\\displaystyle - \\frac{1}{x}$"
      ],
      "text/plain": [
       "-1/x"
      ]
     },
     "execution_count": 20,
     "metadata": {},
     "output_type": "execute_result"
    }
   ],
   "source": [
    "#Oppgave 22.1h\n",
    "sp.diff(ln((1/x)))"
   ]
  },
  {
   "cell_type": "code",
   "execution_count": 22,
   "id": "be3c6f00-d38d-46d9-a49c-3786ed1942cb",
   "metadata": {},
   "outputs": [
    {
     "data": {
      "text/latex": [
       "$\\displaystyle 12 e^{4 x} + \\frac{6}{x}$"
      ],
      "text/plain": [
       "12*exp(4*x) + 6/x"
      ]
     },
     "execution_count": 22,
     "metadata": {},
     "output_type": "execute_result"
    }
   ],
   "source": [
    "#Oppgave 22.1i\n",
    "sp.diff(6*ln(x)+3*e(4*x))"
   ]
  },
  {
   "cell_type": "code",
   "execution_count": 23,
   "id": "6692f2eb-5902-4fb1-bc70-14cbd9e859ab",
   "metadata": {},
   "outputs": [
    {
     "data": {
      "text/latex": [
       "$\\displaystyle - x e^{- x} + e^{- x}$"
      ],
      "text/plain": [
       "-x*exp(-x) + exp(-x)"
      ]
     },
     "execution_count": 23,
     "metadata": {},
     "output_type": "execute_result"
    }
   ],
   "source": [
    "#Oppgave 22.1j\n",
    "sp.diff(x*e(-x))"
   ]
  },
  {
   "cell_type": "code",
   "execution_count": 48,
   "id": "e294da43-f7cd-474d-83df-6ae73cb3b2ed",
   "metadata": {},
   "outputs": [
    {
     "data": {
      "text/latex": [
       "$\\displaystyle \\frac{2 x^{3}}{x^{2} + 2} + 2 x \\log{\\left(x^{2} + 2 \\right)}$"
      ],
      "text/plain": [
       "2*x**3/(x**2 + 2) + 2*x*log(x**2 + 2)"
      ]
     },
     "execution_count": 48,
     "metadata": {},
     "output_type": "execute_result"
    }
   ],
   "source": [
    "#Oppgave 22.1k\n",
    "sp.diff(x**2*ln((x**2+2)))"
   ]
  },
  {
   "cell_type": "code",
   "execution_count": 26,
   "id": "d9ff78a6-d9e0-4d86-a8b6-1cde380aa028",
   "metadata": {},
   "outputs": [
    {
     "data": {
      "text/latex": [
       "$\\displaystyle 2 x^{3} e^{2 x} + 3 x^{2} e^{2 x}$"
      ],
      "text/plain": [
       "2*x**3*exp(2*x) + 3*x**2*exp(2*x)"
      ]
     },
     "execution_count": 26,
     "metadata": {},
     "output_type": "execute_result"
    }
   ],
   "source": [
    "#Oppgave 22.2a\n",
    "sp.diff(x**3*e(2*x))"
   ]
  },
  {
   "cell_type": "code",
   "execution_count": 41,
   "id": "f26dcda1-8c1a-4d8a-82ae-1fa681aef480",
   "metadata": {},
   "outputs": [
    {
     "data": {
      "text/latex": [
       "$\\displaystyle \\frac{\\left(x^{2} + 1\\right) \\left(- \\frac{2 x \\left(x^{2} - 1\\right)}{\\left(x^{2} + 1\\right)^{2}} + \\frac{2 x}{x^{2} + 1}\\right)}{x^{2} - 1}$"
      ],
      "text/plain": [
       "(x**2 + 1)*(-2*x*(x**2 - 1)/(x**2 + 1)**2 + 2*x/(x**2 + 1))/(x**2 - 1)"
      ]
     },
     "execution_count": 41,
     "metadata": {},
     "output_type": "execute_result"
    }
   ],
   "source": [
    "#Oppgave 22.2b\n",
    "sp.diff(ln((x**2-1)/(x**2+1)))"
   ]
  },
  {
   "cell_type": "code",
   "execution_count": 42,
   "id": "7eb387a0-1512-454e-a195-98aac8d22ffc",
   "metadata": {},
   "outputs": [
    {
     "data": {
      "text/latex": [
       "$\\displaystyle \\frac{2 x^{3}}{x^{2} + 2} + 2 x \\log{\\left(x^{2} + 2 \\right)}$"
      ],
      "text/plain": [
       "2*x**3/(x**2 + 2) + 2*x*log(x**2 + 2)"
      ]
     },
     "execution_count": 42,
     "metadata": {},
     "output_type": "execute_result"
    }
   ],
   "source": [
    "#Oppgave 22.2c\n",
    "sp.diff(x**2*ln((x**2+2)))"
   ]
  },
  {
   "cell_type": "code",
   "execution_count": 43,
   "id": "c11e6bbe-4430-4443-a3c0-576847c03049",
   "metadata": {},
   "outputs": [
    {
     "data": {
      "text/latex": [
       "$\\displaystyle - \\frac{2 x e^{- x}}{\\left(x^{2} + 1\\right)^{2}} - \\frac{e^{- x}}{x^{2} + 1}$"
      ],
      "text/plain": [
       "-2*x*exp(-x)/(x**2 + 1)**2 - exp(-x)/(x**2 + 1)"
      ]
     },
     "execution_count": 43,
     "metadata": {},
     "output_type": "execute_result"
    }
   ],
   "source": [
    "#Oppgave 22.2d\n",
    "sp.diff((e(-x)/(x**2+1)))"
   ]
  }
 ],
 "metadata": {
  "kernelspec": {
   "display_name": "Python 3 (ipykernel)",
   "language": "python",
   "name": "python3"
  },
  "language_info": {
   "codemirror_mode": {
    "name": "ipython",
    "version": 3
   },
   "file_extension": ".py",
   "mimetype": "text/x-python",
   "name": "python",
   "nbconvert_exporter": "python",
   "pygments_lexer": "ipython3",
   "version": "3.9.5"
  }
 },
 "nbformat": 4,
 "nbformat_minor": 5
}
