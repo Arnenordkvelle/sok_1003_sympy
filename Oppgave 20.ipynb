{
 "cells": [
  {
   "cell_type": "code",
   "execution_count": 1,
   "id": "d710312f-ef0c-45f2-8f38-5557ebdc080b",
   "metadata": {},
   "outputs": [],
   "source": [
    "import sympy as sp\n",
    "from sympy.solvers import solve\n",
    "x, y=sp.symbols('x y')"
   ]
  },
  {
   "cell_type": "code",
   "execution_count": 2,
   "id": "904e586e-780d-4ad3-8767-cf321af38e2b",
   "metadata": {},
   "outputs": [
    {
     "data": {
      "text/latex": [
       "$\\displaystyle 9 x^{8}$"
      ],
      "text/plain": [
       "9*x**8"
      ]
     },
     "execution_count": 2,
     "metadata": {},
     "output_type": "execute_result"
    }
   ],
   "source": [
    "#Oppgave 20.1e\n",
    "sp.diff(x**4*x**5)"
   ]
  },
  {
   "cell_type": "code",
   "execution_count": 3,
   "id": "6c778f83-4b3d-44fd-a6e6-17240419221f",
   "metadata": {},
   "outputs": [
    {
     "data": {
      "text/latex": [
       "$\\displaystyle \\frac{3 \\sqrt{x}}{2}$"
      ],
      "text/plain": [
       "3*sqrt(x)/2"
      ]
     },
     "execution_count": 3,
     "metadata": {},
     "output_type": "execute_result"
    }
   ],
   "source": [
    "#Oppgave 20.1f\n",
    "sp.diff(x*sp.sqrt(x))"
   ]
  },
  {
   "cell_type": "code",
   "execution_count": 5,
   "id": "e7094ecc-8116-4395-8cb8-c84a61ba4561",
   "metadata": {},
   "outputs": [
    {
     "data": {
      "text/latex": [
       "$\\displaystyle - \\frac{6}{x^{4}}$"
      ],
      "text/plain": [
       "-6/x**4"
      ]
     },
     "execution_count": 5,
     "metadata": {},
     "output_type": "execute_result"
    }
   ],
   "source": [
    "#Oppgave 20.1g\n",
    "sp.diff(2/x**3)"
   ]
  },
  {
   "cell_type": "code",
   "execution_count": 13,
   "id": "122574b5-d9fc-49b5-a889-fa7d2aeb1610",
   "metadata": {},
   "outputs": [
    {
     "data": {
      "text/latex": [
       "$\\displaystyle \\frac{2}{x^{2}} - \\frac{3 \\left(x^{2} - 2\\right)}{x^{4}}$"
      ],
      "text/plain": [
       "2/x**2 - 3*(x**2 - 2)/x**4"
      ]
     },
     "execution_count": 13,
     "metadata": {},
     "output_type": "execute_result"
    }
   ],
   "source": [
    "#Oppgave 20.1h\n",
    "sp.diff((x**2-2)/x**3)"
   ]
  },
  {
   "cell_type": "code",
   "execution_count": 14,
   "id": "e4f1a891-fa64-4d6e-a5cc-5d32c1ae3462",
   "metadata": {},
   "outputs": [
    {
     "data": {
      "text/latex": [
       "$\\displaystyle \\frac{13 x^{\\frac{11}{2}}}{2}$"
      ],
      "text/plain": [
       "13*x**(11/2)/2"
      ]
     },
     "execution_count": 14,
     "metadata": {},
     "output_type": "execute_result"
    }
   ],
   "source": [
    "#Oppgave 20.1i\n",
    "sp.diff(sp.sqrt(x)*x**6)"
   ]
  },
  {
   "cell_type": "code",
   "execution_count": 15,
   "id": "74207a34-4cde-41c7-a8ec-b9fa86801556",
   "metadata": {},
   "outputs": [
    {
     "data": {
      "text/latex": [
       "$\\displaystyle 3 x^{2} + 1$"
      ],
      "text/plain": [
       "3*x**2 + 1"
      ]
     },
     "execution_count": 15,
     "metadata": {},
     "output_type": "execute_result"
    }
   ],
   "source": [
    "#Oppgave 20.1j\n",
    "sp.diff(x*(x**2+1))"
   ]
  },
  {
   "cell_type": "code",
   "execution_count": 20,
   "id": "fcd2fd00-35fc-4056-9143-96792f4113ce",
   "metadata": {},
   "outputs": [
    {
     "data": {
      "text/latex": [
       "$\\displaystyle - \\frac{3 x^{2} \\left(x^{2} + 4\\right)}{\\left(x^{3} - 1\\right)^{2}} + \\frac{2 x}{x^{3} - 1}$"
      ],
      "text/plain": [
       "-3*x**2*(x**2 + 4)/(x**3 - 1)**2 + 2*x/(x**3 - 1)"
      ]
     },
     "execution_count": 20,
     "metadata": {},
     "output_type": "execute_result"
    }
   ],
   "source": [
    "#Oppgave 20.1k\n",
    "sp.diff((x**2+4)/(x**3-1))"
   ]
  },
  {
   "cell_type": "code",
   "execution_count": 24,
   "id": "e88fc199-ff24-44e1-87f8-7c90ead36c2d",
   "metadata": {},
   "outputs": [
    {
     "data": {
      "text/latex": [
       "$\\displaystyle \\frac{x^{2} \\left(- 2 x - 2\\right)}{\\left(x^{2} + 2 x\\right)^{2}} + \\frac{2 x}{x^{2} + 2 x}$"
      ],
      "text/plain": [
       "x**2*(-2*x - 2)/(x**2 + 2*x)**2 + 2*x/(x**2 + 2*x)"
      ]
     },
     "execution_count": 24,
     "metadata": {},
     "output_type": "execute_result"
    }
   ],
   "source": [
    "#Oppgave 20.1l\n",
    "sp.diff((x**2)/(x**2+2*x))"
   ]
  },
  {
   "cell_type": "code",
   "execution_count": 26,
   "id": "77b7b2a7-46a8-423f-80d5-9098451ea8f2",
   "metadata": {},
   "outputs": [
    {
     "data": {
      "text/latex": [
       "$\\displaystyle \\frac{2 x + 4}{x - 2} - \\frac{x^{2} + 4 x + 2}{\\left(x - 2\\right)^{2}}$"
      ],
      "text/plain": [
       "(2*x + 4)/(x - 2) - (x**2 + 4*x + 2)/(x - 2)**2"
      ]
     },
     "execution_count": 26,
     "metadata": {},
     "output_type": "execute_result"
    }
   ],
   "source": [
    "#Oppgave 20.1m\n",
    "sp.diff((x**2+4*x+2)/(x-2))"
   ]
  },
  {
   "cell_type": "code",
   "execution_count": 27,
   "id": "d9abfc83-6567-462e-ad87-5f175d27d72d",
   "metadata": {},
   "outputs": [
    {
     "data": {
      "text/latex": [
       "$\\displaystyle - \\frac{2 x \\left(x^{3} - 2 x\\right)}{\\left(x^{2} - 1\\right)^{2}} + \\frac{3 x^{2} - 2}{x^{2} - 1}$"
      ],
      "text/plain": [
       "-2*x*(x**3 - 2*x)/(x**2 - 1)**2 + (3*x**2 - 2)/(x**2 - 1)"
      ]
     },
     "execution_count": 27,
     "metadata": {},
     "output_type": "execute_result"
    }
   ],
   "source": [
    "#Oppgave 20.2a\n",
    "sp.diff((x**3-2*x)/(x**2-1))"
   ]
  },
  {
   "cell_type": "code",
   "execution_count": 28,
   "id": "06db3e49-8a4a-4174-bbab-6e195363ac37",
   "metadata": {},
   "outputs": [
    {
     "data": {
      "text/latex": [
       "$\\displaystyle 2 x \\left(x^{2} - 1\\right) + 2 x \\left(x^{2} + 1\\right)$"
      ],
      "text/plain": [
       "2*x*(x**2 - 1) + 2*x*(x**2 + 1)"
      ]
     },
     "execution_count": 28,
     "metadata": {},
     "output_type": "execute_result"
    }
   ],
   "source": [
    "#Oppgave 20.2b\n",
    "sp.diff((x**2+1)*(x**2-1))"
   ]
  },
  {
   "cell_type": "code",
   "execution_count": 29,
   "id": "8a4ae9b2-c72b-4e88-8ced-01d7fdb9503d",
   "metadata": {},
   "outputs": [
    {
     "data": {
      "text/latex": [
       "$\\displaystyle - \\frac{3 x^{2} \\left(3 x - 4\\right)}{\\left(x^{3} + 7\\right)^{2}} + \\frac{3}{x^{3} + 7}$"
      ],
      "text/plain": [
       "-3*x**2*(3*x - 4)/(x**3 + 7)**2 + 3/(x**3 + 7)"
      ]
     },
     "execution_count": 29,
     "metadata": {},
     "output_type": "execute_result"
    }
   ],
   "source": [
    "#Oppgave 20.2c\n",
    "sp.diff((3*x-4)/(x**3+7))"
   ]
  }
 ],
 "metadata": {
  "kernelspec": {
   "display_name": "Python 3 (ipykernel)",
   "language": "python",
   "name": "python3"
  },
  "language_info": {
   "codemirror_mode": {
    "name": "ipython",
    "version": 3
   },
   "file_extension": ".py",
   "mimetype": "text/x-python",
   "name": "python",
   "nbconvert_exporter": "python",
   "pygments_lexer": "ipython3",
   "version": "3.9.5"
  }
 },
 "nbformat": 4,
 "nbformat_minor": 5
}
