{
 "cells": [
  {
   "cell_type": "code",
   "execution_count": 1,
   "id": "c7c97b19-a1eb-4551-a5c3-4065e8027722",
   "metadata": {},
   "outputs": [],
   "source": [
    "#Oppgaver"
   ]
  },
  {
   "cell_type": "code",
   "execution_count": 13,
   "id": "faf85c58-d27b-4288-8f4f-2ea8e91b116d",
   "metadata": {},
   "outputs": [],
   "source": [
    "#Oppgave 16.1a\n",
    "import sympy as sp\n",
    "from sympy.solvers import solve\n",
    "x, y=sp.symbols('x y')\n"
   ]
  },
  {
   "cell_type": "code",
   "execution_count": 12,
   "id": "775dd296-1c59-4382-8b2b-8920600204ce",
   "metadata": {},
   "outputs": [
    {
     "data": {
      "text/latex": [
       "$\\displaystyle 4 x + 2 y = 12$"
      ],
      "text/plain": [
       "Eq(4*x + 2*y, 12)"
      ]
     },
     "execution_count": 12,
     "metadata": {},
     "output_type": "execute_result"
    }
   ],
   "source": [
    "eq1=sp.Eq(4*x + 2*y,12)\n",
    "eq1"
   ]
  },
  {
   "cell_type": "code",
   "execution_count": 9,
   "id": "ff909bfe-ba01-4126-af24-cff8860519ae",
   "metadata": {},
   "outputs": [
    {
     "data": {
      "text/latex": [
       "$\\displaystyle 6 x - 2 y = 8$"
      ],
      "text/plain": [
       "Eq(6*x - 2*y, 8)"
      ]
     },
     "execution_count": 9,
     "metadata": {},
     "output_type": "execute_result"
    }
   ],
   "source": [
    "eq2=sp.Eq(6*x - 2*y,8)\n",
    "eq2"
   ]
  },
  {
   "cell_type": "code",
   "execution_count": 14,
   "id": "82152e47-5397-438d-be36-91c1021073e2",
   "metadata": {},
   "outputs": [
    {
     "data": {
      "text/plain": [
       "{x: 2, y: 2}"
      ]
     },
     "execution_count": 14,
     "metadata": {},
     "output_type": "execute_result"
    }
   ],
   "source": [
    "sol=solve([eq1, eq2], [x,y])\n",
    "sol"
   ]
  },
  {
   "cell_type": "code",
   "execution_count": 16,
   "id": "b7d5b035-fc69-452c-90cf-7cfd4fe5e13a",
   "metadata": {},
   "outputs": [
    {
     "data": {
      "text/latex": [
       "$\\displaystyle 2 x + y^{2} = 25$"
      ],
      "text/plain": [
       "Eq(2*x + y**2, 25)"
      ]
     },
     "execution_count": 16,
     "metadata": {},
     "output_type": "execute_result"
    }
   ],
   "source": [
    "#Oppgave 16.1b\n",
    "\n",
    "eq3=sp.Eq(2*x + y**2,25)\n",
    "eq3"
   ]
  },
  {
   "cell_type": "code",
   "execution_count": 19,
   "id": "11921a41-b472-415d-a247-f72ffc1c76f4",
   "metadata": {},
   "outputs": [
    {
     "data": {
      "text/latex": [
       "$\\displaystyle x - 2 y = 10$"
      ],
      "text/plain": [
       "Eq(x - 2*y, 10)"
      ]
     },
     "execution_count": 19,
     "metadata": {},
     "output_type": "execute_result"
    }
   ],
   "source": [
    "eq4=sp.Eq(x - 2*y,10)\n",
    "eq4"
   ]
  },
  {
   "cell_type": "code",
   "execution_count": 21,
   "id": "d766ea40-28af-4e0f-b1fb-7ccf44ce6404",
   "metadata": {},
   "outputs": [
    {
     "data": {
      "text/plain": [
       "[(0, -5), (12, 1)]"
      ]
     },
     "execution_count": 21,
     "metadata": {},
     "output_type": "execute_result"
    }
   ],
   "source": [
    "sol=solve([eq3, eq4], [x,y])\n",
    "sol"
   ]
  },
  {
   "cell_type": "code",
   "execution_count": null,
   "id": "e010eed9-4992-4d0a-9cd5-16a08b28c607",
   "metadata": {},
   "outputs": [],
   "source": [
    "#Oppgave 16.2a"
   ]
  },
  {
   "cell_type": "code",
   "execution_count": 20,
   "id": "39ad4724-670c-425c-b4ad-bdee653e0f20",
   "metadata": {},
   "outputs": [
    {
     "data": {
      "text/latex": [
       "$\\displaystyle 4 x - 4 y = 8$"
      ],
      "text/plain": [
       "Eq(4*x - 4*y, 8)"
      ]
     },
     "execution_count": 20,
     "metadata": {},
     "output_type": "execute_result"
    }
   ],
   "source": [
    "eq5=sp.Eq(4*x - 4*y,8)\n",
    "eq5"
   ]
  },
  {
   "cell_type": "code",
   "execution_count": 22,
   "id": "e386dacb-06e3-4449-8427-2faa3efd1dca",
   "metadata": {},
   "outputs": [
    {
     "data": {
      "text/latex": [
       "$\\displaystyle 9 x - 5 y = 26$"
      ],
      "text/plain": [
       "Eq(9*x - 5*y, 26)"
      ]
     },
     "execution_count": 22,
     "metadata": {},
     "output_type": "execute_result"
    }
   ],
   "source": [
    "eq6=sp.Eq(9*x - 5*y,26)\n",
    "eq6"
   ]
  },
  {
   "cell_type": "code",
   "execution_count": 24,
   "id": "3bf0af96-a7e4-47d4-bbac-20be2ba2fada",
   "metadata": {},
   "outputs": [
    {
     "data": {
      "text/plain": [
       "{x: 4, y: 2}"
      ]
     },
     "execution_count": 24,
     "metadata": {},
     "output_type": "execute_result"
    }
   ],
   "source": [
    "sol=solve([eq5, eq6], [x,y])\n",
    "sol"
   ]
  },
  {
   "cell_type": "code",
   "execution_count": null,
   "id": "d8f72ae3-35ca-45a6-a3d5-d04b440d8cf3",
   "metadata": {},
   "outputs": [],
   "source": [
    "#Oppgave 16.2b"
   ]
  },
  {
   "cell_type": "code",
   "execution_count": 25,
   "id": "4c1f67c8-35fe-49b6-93e1-9d69a22c28d2",
   "metadata": {},
   "outputs": [
    {
     "data": {
      "text/latex": [
       "$\\displaystyle x - 2 y^{2} = 15$"
      ],
      "text/plain": [
       "Eq(x - 2*y**2, 15)"
      ]
     },
     "execution_count": 25,
     "metadata": {},
     "output_type": "execute_result"
    }
   ],
   "source": [
    "eq7=sp.Eq(x - 2*y**2,15)\n",
    "eq7"
   ]
  },
  {
   "cell_type": "code",
   "execution_count": 26,
   "id": "d5244ad7-979b-431e-9887-cba8983d864b",
   "metadata": {},
   "outputs": [
    {
     "data": {
      "text/latex": [
       "$\\displaystyle x^{2} - 4 y^{2} = 33$"
      ],
      "text/plain": [
       "Eq(x**2 - 4*y**2, 33)"
      ]
     },
     "execution_count": 26,
     "metadata": {},
     "output_type": "execute_result"
    }
   ],
   "source": [
    "eq8=sp.Eq(x**2 - 4*y**2,33)\n",
    "eq8"
   ]
  },
  {
   "cell_type": "code",
   "execution_count": 27,
   "id": "5ff20986-03f7-4889-8b50-8c8ec66e2a29",
   "metadata": {},
   "outputs": [
    {
     "data": {
      "text/plain": [
       "[(-1, -2*sqrt(2)*I), (-1, 2*sqrt(2)*I), (3, -sqrt(6)*I), (3, sqrt(6)*I)]"
      ]
     },
     "execution_count": 27,
     "metadata": {},
     "output_type": "execute_result"
    }
   ],
   "source": [
    "sol=solve([eq7, eq8], [x,y])\n",
    "sol"
   ]
  }
 ],
 "metadata": {
  "kernelspec": {
   "display_name": "Python 3 (ipykernel)",
   "language": "python",
   "name": "python3"
  },
  "language_info": {
   "codemirror_mode": {
    "name": "ipython",
    "version": 3
   },
   "file_extension": ".py",
   "mimetype": "text/x-python",
   "name": "python",
   "nbconvert_exporter": "python",
   "pygments_lexer": "ipython3",
   "version": "3.9.5"
  }
 },
 "nbformat": 4,
 "nbformat_minor": 5
}
