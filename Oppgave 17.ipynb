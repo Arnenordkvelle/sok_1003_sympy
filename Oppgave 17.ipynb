{
 "cells": [
  {
   "cell_type": "code",
   "execution_count": 11,
   "id": "4b6f9444-0cbb-4e58-a3c9-35beb126e9a5",
   "metadata": {},
   "outputs": [],
   "source": [
    "import sympy as sp\n",
    "from sympy.solvers import solve\n",
    "x, y=sp.symbols('x y')"
   ]
  },
  {
   "cell_type": "code",
   "execution_count": null,
   "id": "f56f950f-86d7-4b98-9b72-ff19e32be8ce",
   "metadata": {},
   "outputs": [],
   "source": [
    "#Oppgave 17.1a"
   ]
  },
  {
   "cell_type": "code",
   "execution_count": 12,
   "id": "6a760d02-20f7-4aae-9fba-88ccdba3b1b7",
   "metadata": {},
   "outputs": [
    {
     "data": {
      "text/latex": [
       "$\\displaystyle x y^{2} - x = 0$"
      ],
      "text/plain": [
       "Eq(x*y**2 - x, 0)"
      ]
     },
     "execution_count": 12,
     "metadata": {},
     "output_type": "execute_result"
    }
   ],
   "source": [
    "eq1=sp.Eq(x*y**2 - x,0)\n",
    "eq1"
   ]
  },
  {
   "cell_type": "code",
   "execution_count": 9,
   "id": "b1acc32b-99af-4ee2-9daa-8cc36828137b",
   "metadata": {},
   "outputs": [
    {
     "data": {
      "text/latex": [
       "$\\displaystyle x + y^{2} = 16$"
      ],
      "text/plain": [
       "Eq(x + y**2, 16)"
      ]
     },
     "execution_count": 9,
     "metadata": {},
     "output_type": "execute_result"
    }
   ],
   "source": [
    "eq2=sp.Eq(x + y**2,16)\n",
    "eq2"
   ]
  },
  {
   "cell_type": "code",
   "execution_count": 13,
   "id": "aac6a341-361d-493e-afbb-af2d715b63a0",
   "metadata": {},
   "outputs": [
    {
     "data": {
      "text/plain": [
       "[(0, -4), (0, 4), (15, -1), (15, 1)]"
      ]
     },
     "execution_count": 13,
     "metadata": {},
     "output_type": "execute_result"
    }
   ],
   "source": [
    "sol=solve([eq1, eq2], [x,y])\n",
    "sol"
   ]
  },
  {
   "cell_type": "code",
   "execution_count": null,
   "id": "dad19994-be60-4b7f-98b4-79003f6a7131",
   "metadata": {},
   "outputs": [],
   "source": [
    "#Oppgave 17.1b"
   ]
  },
  {
   "cell_type": "code",
   "execution_count": 14,
   "id": "a66de825-8218-49cd-b8f9-6b0b524af422",
   "metadata": {},
   "outputs": [
    {
     "data": {
      "text/latex": [
       "$\\displaystyle x^{2} + y^{2} = 100$"
      ],
      "text/plain": [
       "Eq(x**2 + y**2, 100)"
      ]
     },
     "execution_count": 14,
     "metadata": {},
     "output_type": "execute_result"
    }
   ],
   "source": [
    "eq3=sp.Eq(x**2 + y**2,100)\n",
    "eq3"
   ]
  },
  {
   "cell_type": "code",
   "execution_count": 15,
   "id": "f4673cee-09a1-466a-b130-d7fbb5667e32",
   "metadata": {},
   "outputs": [
    {
     "data": {
      "text/latex": [
       "$\\displaystyle x^{2} y - 36 y = 0$"
      ],
      "text/plain": [
       "Eq(x**2*y - 36*y, 0)"
      ]
     },
     "execution_count": 15,
     "metadata": {},
     "output_type": "execute_result"
    }
   ],
   "source": [
    "eq4=sp.Eq(x**2*y - 36*y,0)\n",
    "eq4"
   ]
  },
  {
   "cell_type": "code",
   "execution_count": 16,
   "id": "042a9bfe-8f49-468f-a0ea-a1f8a096b36f",
   "metadata": {},
   "outputs": [
    {
     "data": {
      "text/plain": [
       "[(-10, 0), (-6, -8), (-6, 8), (6, -8), (6, 8), (10, 0)]"
      ]
     },
     "execution_count": 16,
     "metadata": {},
     "output_type": "execute_result"
    }
   ],
   "source": [
    "sol=solve([eq3, eq4], [x,y])\n",
    "sol"
   ]
  },
  {
   "cell_type": "code",
   "execution_count": null,
   "id": "c333a540-f394-4878-9705-0ba23fc9ac48",
   "metadata": {},
   "outputs": [],
   "source": [
    "#Oppgave 17.2a"
   ]
  },
  {
   "cell_type": "code",
   "execution_count": 17,
   "id": "d6ee1142-f6d0-4bec-af60-639fd7e399e1",
   "metadata": {},
   "outputs": [
    {
     "data": {
      "text/latex": [
       "$\\displaystyle x y^{2} - 49 x = 0$"
      ],
      "text/plain": [
       "Eq(x*y**2 - 49*x, 0)"
      ]
     },
     "execution_count": 17,
     "metadata": {},
     "output_type": "execute_result"
    }
   ],
   "source": [
    "eq5=sp.Eq(x*y**2 - 49*x,0)\n",
    "eq5"
   ]
  },
  {
   "cell_type": "code",
   "execution_count": 20,
   "id": "4df0bc14-32a3-41ba-9e40-b167f008273e",
   "metadata": {},
   "outputs": [
    {
     "data": {
      "text/latex": [
       "$\\displaystyle x^{2} + y^{2} = 58$"
      ],
      "text/plain": [
       "Eq(x**2 + y**2, 58)"
      ]
     },
     "execution_count": 20,
     "metadata": {},
     "output_type": "execute_result"
    }
   ],
   "source": [
    "eq6=sp.Eq(x**2 + y**2,58)\n",
    "eq6"
   ]
  },
  {
   "cell_type": "code",
   "execution_count": 21,
   "id": "b6718e88-9450-4be3-b538-2347d88fb18e",
   "metadata": {},
   "outputs": [
    {
     "data": {
      "text/plain": [
       "[(-3, -7), (-3, 7), (0, -sqrt(58)), (0, sqrt(58)), (3, -7), (3, 7)]"
      ]
     },
     "execution_count": 21,
     "metadata": {},
     "output_type": "execute_result"
    }
   ],
   "source": [
    "sol=solve([eq5, eq6], [x,y])\n",
    "sol"
   ]
  },
  {
   "cell_type": "code",
   "execution_count": null,
   "id": "33fc47c3-bd64-4fe8-9cca-c839a6c53865",
   "metadata": {},
   "outputs": [],
   "source": [
    "#Oppgave 17.2b"
   ]
  },
  {
   "cell_type": "code",
   "execution_count": 22,
   "id": "e8d9f8b1-7434-477b-b6c3-5dc59db99517",
   "metadata": {},
   "outputs": [
    {
     "data": {
      "text/latex": [
       "$\\displaystyle x^{2} + y^{2} = 1.25$"
      ],
      "text/plain": [
       "Eq(x**2 + y**2, 1.25)"
      ]
     },
     "execution_count": 22,
     "metadata": {},
     "output_type": "execute_result"
    }
   ],
   "source": [
    "eq7=sp.Eq(x**2 + y**2,5/4)\n",
    "eq7"
   ]
  },
  {
   "cell_type": "code",
   "execution_count": 23,
   "id": "af2e140a-5a69-4718-8b61-e3980e17c139",
   "metadata": {},
   "outputs": [
    {
     "data": {
      "text/latex": [
       "$\\displaystyle 2 x y + y = 0$"
      ],
      "text/plain": [
       "Eq(2*x*y + y, 0)"
      ]
     },
     "execution_count": 23,
     "metadata": {},
     "output_type": "execute_result"
    }
   ],
   "source": [
    "eq8=sp.Eq(2*x*y + y,0)\n",
    "eq8"
   ]
  },
  {
   "cell_type": "code",
   "execution_count": 24,
   "id": "31a68c6d-b36d-4e36-8f53-2fbbf700c6f7",
   "metadata": {},
   "outputs": [
    {
     "data": {
      "text/plain": [
       "[(-1.11803398874989, 0.0),\n",
       " (-0.500000000000000, -1.00000000000000),\n",
       " (-0.500000000000000, 1.00000000000000),\n",
       " (1.11803398874989, 0.0)]"
      ]
     },
     "execution_count": 24,
     "metadata": {},
     "output_type": "execute_result"
    }
   ],
   "source": [
    "sol=solve([eq7, eq8], [x,y])\n",
    "sol"
   ]
  }
 ],
 "metadata": {
  "kernelspec": {
   "display_name": "Python 3 (ipykernel)",
   "language": "python",
   "name": "python3"
  },
  "language_info": {
   "codemirror_mode": {
    "name": "ipython",
    "version": 3
   },
   "file_extension": ".py",
   "mimetype": "text/x-python",
   "name": "python",
   "nbconvert_exporter": "python",
   "pygments_lexer": "ipython3",
   "version": "3.9.5"
  }
 },
 "nbformat": 4,
 "nbformat_minor": 5
}
