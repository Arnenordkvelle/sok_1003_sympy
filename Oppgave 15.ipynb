{
 "cells": [
  {
   "cell_type": "code",
   "execution_count": 2,
   "id": "4f15e0af-c021-461e-aa23-da2c5ad56bb0",
   "metadata": {},
   "outputs": [],
   "source": [
    "import sympy as sp\n",
    "from sympy.solvers import solve\n",
    "x, y=sp.symbols('x y')"
   ]
  },
  {
   "cell_type": "code",
   "execution_count": null,
   "id": "d49dc52e-8fe5-46a5-abee-89f8430a5f01",
   "metadata": {},
   "outputs": [],
   "source": [
    "#Oppgave 15.1a"
   ]
  },
  {
   "cell_type": "code",
   "execution_count": 3,
   "id": "e90e9c2c-8b62-4e66-bc76-6c05d7886f2a",
   "metadata": {},
   "outputs": [
    {
     "data": {
      "text/latex": [
       "$\\displaystyle 2 x + 4 y = 6$"
      ],
      "text/plain": [
       "Eq(2*x + 4*y, 6)"
      ]
     },
     "execution_count": 3,
     "metadata": {},
     "output_type": "execute_result"
    }
   ],
   "source": [
    "eq1=sp.Eq(2*x + 4*y,6)\n",
    "eq1"
   ]
  },
  {
   "cell_type": "code",
   "execution_count": 4,
   "id": "e271373e-3e1e-4195-9698-4f3a11b89714",
   "metadata": {},
   "outputs": [
    {
     "data": {
      "text/latex": [
       "$\\displaystyle - 2 x + y = 4$"
      ],
      "text/plain": [
       "Eq(-2*x + y, 4)"
      ]
     },
     "execution_count": 4,
     "metadata": {},
     "output_type": "execute_result"
    }
   ],
   "source": [
    "eq2=sp.Eq(-2*x + y,4)\n",
    "eq2"
   ]
  },
  {
   "cell_type": "code",
   "execution_count": 5,
   "id": "582cbe3d-33f7-4788-9522-d145a4be541c",
   "metadata": {},
   "outputs": [
    {
     "data": {
      "text/plain": [
       "{x: -1, y: 2}"
      ]
     },
     "execution_count": 5,
     "metadata": {},
     "output_type": "execute_result"
    }
   ],
   "source": [
    "sol=solve([eq1,eq2], [x,y])\n",
    "sol"
   ]
  },
  {
   "cell_type": "code",
   "execution_count": null,
   "id": "af01c122-0277-43d4-8603-91245b31e9c0",
   "metadata": {},
   "outputs": [],
   "source": [
    "#oppgave 15.1b"
   ]
  },
  {
   "cell_type": "code",
   "execution_count": 6,
   "id": "a19430cc-83f5-4473-8d08-04d3826143ce",
   "metadata": {},
   "outputs": [
    {
     "data": {
      "text/latex": [
       "$\\displaystyle 2 x - y = -1$"
      ],
      "text/plain": [
       "Eq(2*x - y, -1)"
      ]
     },
     "execution_count": 6,
     "metadata": {},
     "output_type": "execute_result"
    }
   ],
   "source": [
    "eq3=sp.Eq(2*x - y,-1)\n",
    "eq3"
   ]
  },
  {
   "cell_type": "code",
   "execution_count": 7,
   "id": "ea0187a2-e371-42e6-8242-8eae1dfecdaa",
   "metadata": {},
   "outputs": [
    {
     "data": {
      "text/latex": [
       "$\\displaystyle x^{2} + x - y = 1$"
      ],
      "text/plain": [
       "Eq(x**2 + x - y, 1)"
      ]
     },
     "execution_count": 7,
     "metadata": {},
     "output_type": "execute_result"
    }
   ],
   "source": [
    "eq4=sp.Eq(x**2 + x-y,1)\n",
    "eq4"
   ]
  },
  {
   "cell_type": "code",
   "execution_count": 15,
   "id": "12f6245c-1085-449b-87d3-c73fcadec2d9",
   "metadata": {},
   "outputs": [
    {
     "data": {
      "text/plain": [
       "[(-1, -1), (2, 5)]"
      ]
     },
     "execution_count": 15,
     "metadata": {},
     "output_type": "execute_result"
    }
   ],
   "source": [
    "sol=solve([eq3,eq4], [x,y])\n",
    "sol"
   ]
  },
  {
   "cell_type": "code",
   "execution_count": null,
   "id": "67989b6c-f966-47b6-a0ab-d2fbf5a84563",
   "metadata": {},
   "outputs": [],
   "source": [
    "#Oppgave 15.2a"
   ]
  },
  {
   "cell_type": "code",
   "execution_count": 9,
   "id": "8415b2e1-8941-4ef2-9a2d-721579fc4dad",
   "metadata": {},
   "outputs": [
    {
     "data": {
      "text/latex": [
       "$\\displaystyle 3 x - 12 = - 6 y$"
      ],
      "text/plain": [
       "Eq(3*x - 12, -6*y)"
      ]
     },
     "execution_count": 9,
     "metadata": {},
     "output_type": "execute_result"
    }
   ],
   "source": [
    "eq5=sp.Eq(3*x - 12,-6*y)\n",
    "eq5"
   ]
  },
  {
   "cell_type": "code",
   "execution_count": 10,
   "id": "47b80d91-9118-4eb1-aead-490145d3677c",
   "metadata": {},
   "outputs": [
    {
     "data": {
      "text/latex": [
       "$\\displaystyle 4 x - 8 y = 16$"
      ],
      "text/plain": [
       "Eq(4*x - 8*y, 16)"
      ]
     },
     "execution_count": 10,
     "metadata": {},
     "output_type": "execute_result"
    }
   ],
   "source": [
    "eq6=sp.Eq(4*x - 8*y,16)\n",
    "eq6"
   ]
  },
  {
   "cell_type": "code",
   "execution_count": 17,
   "id": "f8c0c4e4-3727-4826-b56e-2beb8f91c196",
   "metadata": {},
   "outputs": [
    {
     "data": {
      "text/plain": [
       "[(-1, -1), (2, 5)]"
      ]
     },
     "execution_count": 17,
     "metadata": {},
     "output_type": "execute_result"
    }
   ],
   "source": [
    "sol=solve([eq3,eq4], [x,y])\n",
    "sol"
   ]
  },
  {
   "cell_type": "code",
   "execution_count": 12,
   "id": "0ed72a84-98b7-4f8f-8912-0037ac6467fb",
   "metadata": {},
   "outputs": [
    {
     "data": {
      "text/latex": [
       "$\\displaystyle x^{2} + 4 x - 3 = 3 y$"
      ],
      "text/plain": [
       "Eq(x**2 + 4*x - 3, 3*y)"
      ]
     },
     "execution_count": 12,
     "metadata": {},
     "output_type": "execute_result"
    }
   ],
   "source": [
    "eq7=sp.Eq(x**2 + 4*x-3,3*y)\n",
    "eq7"
   ]
  },
  {
   "cell_type": "code",
   "execution_count": 13,
   "id": "b656eae3-efcb-47b3-9e0e-749dbadb40e0",
   "metadata": {},
   "outputs": [
    {
     "data": {
      "text/latex": [
       "$\\displaystyle 2 y = 8 - x$"
      ],
      "text/plain": [
       "Eq(2*y, 8 - x)"
      ]
     },
     "execution_count": 13,
     "metadata": {},
     "output_type": "execute_result"
    }
   ],
   "source": [
    "eq8=sp.Eq(2*y, 8 - x)\n",
    "eq8"
   ]
  },
  {
   "cell_type": "code",
   "execution_count": 18,
   "id": "404058a4-48c3-4994-90c2-bec1738fc8e9",
   "metadata": {},
   "outputs": [
    {
     "data": {
      "text/plain": [
       "[(-15/2, 31/4), (2, 3)]"
      ]
     },
     "execution_count": 18,
     "metadata": {},
     "output_type": "execute_result"
    }
   ],
   "source": [
    "sol=solve([eq7,eq8], [x,y])\n",
    "sol"
   ]
  }
 ],
 "metadata": {
  "kernelspec": {
   "display_name": "Python 3 (ipykernel)",
   "language": "python",
   "name": "python3"
  },
  "language_info": {
   "codemirror_mode": {
    "name": "ipython",
    "version": 3
   },
   "file_extension": ".py",
   "mimetype": "text/x-python",
   "name": "python",
   "nbconvert_exporter": "python",
   "pygments_lexer": "ipython3",
   "version": "3.9.5"
  }
 },
 "nbformat": 4,
 "nbformat_minor": 5
}
