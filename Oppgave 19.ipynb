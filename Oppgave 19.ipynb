{
 "cells": [
  {
   "cell_type": "code",
   "execution_count": 2,
   "id": "dcfe7be6-1d72-4fcf-8b13-0ecece7999e6",
   "metadata": {},
   "outputs": [
    {
     "data": {
      "text/latex": [
       "$\\displaystyle 5 x^{4}$"
      ],
      "text/plain": [
       "5*x**4"
      ]
     },
     "execution_count": 2,
     "metadata": {},
     "output_type": "execute_result"
    }
   ],
   "source": [
    "import sympy as sp\n",
    "from sympy.solvers import solve\n",
    "x, y=sp.symbols('x y')"
   ]
  },
  {
   "cell_type": "code",
   "execution_count": 3,
   "id": "b1a7300e-ffc5-4387-882c-ecdaaaf50c68",
   "metadata": {},
   "outputs": [
    {
     "data": {
      "text/latex": [
       "$\\displaystyle 5 x^{4}$"
      ],
      "text/plain": [
       "5*x**4"
      ]
     },
     "execution_count": 3,
     "metadata": {},
     "output_type": "execute_result"
    }
   ],
   "source": [
    "#Oppgave 19.1a\n",
    "sp.diff(x**5)"
   ]
  },
  {
   "cell_type": "code",
   "execution_count": 4,
   "id": "0ff3f257-47fb-45ec-879d-d12d2edba327",
   "metadata": {},
   "outputs": [
    {
     "data": {
      "text/latex": [
       "$\\displaystyle 1$"
      ],
      "text/plain": [
       "1"
      ]
     },
     "execution_count": 4,
     "metadata": {},
     "output_type": "execute_result"
    }
   ],
   "source": [
    "#Oppgave 19.1b\n",
    "sp.diff(x+12)"
   ]
  },
  {
   "cell_type": "code",
   "execution_count": 6,
   "id": "0313ead6-b6c0-42bb-9927-44b0c8e9d1b0",
   "metadata": {},
   "outputs": [
    {
     "data": {
      "text/latex": [
       "$\\displaystyle 3 x^{2} + 8 x$"
      ],
      "text/plain": [
       "3*x**2 + 8*x"
      ]
     },
     "execution_count": 6,
     "metadata": {},
     "output_type": "execute_result"
    }
   ],
   "source": [
    "#Oppgave 19.1c\n",
    "sp.diff(x**3 + 4*x**2)"
   ]
  },
  {
   "cell_type": "code",
   "execution_count": 7,
   "id": "6da26438-738f-44ce-aa17-5393e634a0a7",
   "metadata": {},
   "outputs": [
    {
     "data": {
      "text/latex": [
       "$\\displaystyle 6 x^{2}$"
      ],
      "text/plain": [
       "6*x**2"
      ]
     },
     "execution_count": 7,
     "metadata": {},
     "output_type": "execute_result"
    }
   ],
   "source": [
    "#Oppgave 19.1d\n",
    "sp.diff(2*x**3 + sp.sqrt(36))"
   ]
  },
  {
   "cell_type": "code",
   "execution_count": 8,
   "id": "0f49f385-0dcd-4800-8211-8585a762fafd",
   "metadata": {},
   "outputs": [
    {
     "data": {
      "text/latex": [
       "$\\displaystyle \\frac{1}{2 \\sqrt{x}}$"
      ],
      "text/plain": [
       "1/(2*sqrt(x))"
      ]
     },
     "execution_count": 8,
     "metadata": {},
     "output_type": "execute_result"
    }
   ],
   "source": [
    "#Oppgave 19.1e\n",
    "sp.diff(sp.sqrt(x)+5**2)"
   ]
  },
  {
   "cell_type": "code",
   "execution_count": 10,
   "id": "9c325b00-0d19-44c4-a6be-306852d5b127",
   "metadata": {},
   "outputs": [
    {
     "data": {
      "text/latex": [
       "$\\displaystyle 3 x^{2} - \\frac{1}{x^{2}}$"
      ],
      "text/plain": [
       "3*x**2 - 1/x**2"
      ]
     },
     "execution_count": 10,
     "metadata": {},
     "output_type": "execute_result"
    }
   ],
   "source": [
    "#Oppgave 19.1f\n",
    "sp.diff(x**3 + 1/x)"
   ]
  },
  {
   "cell_type": "code",
   "execution_count": 11,
   "id": "a3fb8fce-5e33-4b40-b73f-f09a67c4927f",
   "metadata": {},
   "outputs": [
    {
     "data": {
      "text/latex": [
       "$\\displaystyle 3 x^{2} - 2 x + 0.25$"
      ],
      "text/plain": [
       "3*x**2 - 2*x + 0.25"
      ]
     },
     "execution_count": 11,
     "metadata": {},
     "output_type": "execute_result"
    }
   ],
   "source": [
    "#Oppgave 19.1g\n",
    "sp.diff(x**3 - x**2 + 1/4*x)"
   ]
  },
  {
   "cell_type": "code",
   "execution_count": 12,
   "id": "950130a8-30f6-4b5f-9b61-2a9c05963b60",
   "metadata": {},
   "outputs": [
    {
     "data": {
      "text/latex": [
       "$\\displaystyle 36 x^{5} - \\frac{1}{x^{2}}$"
      ],
      "text/plain": [
       "36*x**5 - 1/x**2"
      ]
     },
     "execution_count": 12,
     "metadata": {},
     "output_type": "execute_result"
    }
   ],
   "source": [
    "#Oppgave 19.2a\n",
    "sp.diff(1/x + 6*x**6)"
   ]
  },
  {
   "cell_type": "code",
   "execution_count": 13,
   "id": "db9fc025-57f4-462a-a675-23d5d5979098",
   "metadata": {},
   "outputs": [
    {
     "data": {
      "text/latex": [
       "$\\displaystyle 1.5 x^{2} - 1$"
      ],
      "text/plain": [
       "1.5*x**2 - 1"
      ]
     },
     "execution_count": 13,
     "metadata": {},
     "output_type": "execute_result"
    }
   ],
   "source": [
    "#Oppgave 19.2b\n",
    "sp.diff(-x+1/2*x**3)"
   ]
  },
  {
   "cell_type": "code",
   "execution_count": 17,
   "id": "96683880-f195-4975-98ce-d4b94dfac192",
   "metadata": {},
   "outputs": [
    {
     "data": {
      "text/latex": [
       "$\\displaystyle x^{2} + x \\left(2 x + 2\\right) + 2 x - 3$"
      ],
      "text/plain": [
       "x**2 + x*(2*x + 2) + 2*x - 3"
      ]
     },
     "execution_count": 17,
     "metadata": {},
     "output_type": "execute_result"
    }
   ],
   "source": [
    "#Oppgave 19.2c\n",
    "sp.diff(x*(x**2+2*x-3))"
   ]
  }
 ],
 "metadata": {
  "kernelspec": {
   "display_name": "Python 3 (ipykernel)",
   "language": "python",
   "name": "python3"
  },
  "language_info": {
   "codemirror_mode": {
    "name": "ipython",
    "version": 3
   },
   "file_extension": ".py",
   "mimetype": "text/x-python",
   "name": "python",
   "nbconvert_exporter": "python",
   "pygments_lexer": "ipython3",
   "version": "3.9.5"
  }
 },
 "nbformat": 4,
 "nbformat_minor": 5
}
